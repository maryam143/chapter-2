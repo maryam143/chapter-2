{
 "cells": [
  {
   "cell_type": "code",
   "execution_count": 2,
   "metadata": {},
   "outputs": [
    {
     "name": "stdout",
     "output_type": "stream",
     "text": [
      "15\n",
      "24.333333333333332\n",
      "5\n",
      "38\n",
      "1024\n",
      "29.95\n"
     ]
    }
   ],
   "source": [
    "#Q1\n",
    "sum=1+2+3+4+5\n",
    "print(sum)\n",
    "avg=(23+19+31)/3\n",
    "print (avg)\n",
    "a=403//73\n",
    "print(a)\n",
    "b=403%73\n",
    "print(b)\n",
    "power=2**10\n",
    "print(power)\n",
    "diff=abs(54-57)\n",
    "minimum=min(34.99,29.95,31.50)\n",
    "print(minimum)\n"
   ]
  },
  {
   "cell_type": "code",
   "execution_count": 7,
   "metadata": {},
   "outputs": [
    {
     "name": "stdout",
     "output_type": "stream",
     "text": [
      "False True True False False False True\n"
     ]
    }
   ],
   "source": [
    "#Q2\n",
    "a=2+2<4\n",
    "b=7//3==1+1\n",
    "c=3**2+4**2==25\n",
    "d=2+4+6>12\n",
    "e=1389%19==0\n",
    "f=31%2==0\n",
    "g=min(34.99,29.95,31.50)<30.00\n",
    "print(a,b,c,d,e,f,g)"
   ]
  },
  {
   "cell_type": "code",
   "execution_count": 8,
   "metadata": {},
   "outputs": [
    {
     "name": "stdout",
     "output_type": "stream",
     "text": [
      "25\n"
     ]
    }
   ],
   "source": [
    "#Q3\n",
    "a=3\n",
    "b=4\n",
    "c=a*a+b*b\n",
    "print(c)"
   ]
  },
  {
   "cell_type": "code",
   "execution_count": 17,
   "metadata": {},
   "outputs": [
    {
     "name": "stdout",
     "output_type": "stream",
     "text": [
      "ant bat cod\n",
      "ant ant ant ant ant ant ant ant ant ant \n",
      "ant bat bat cod cod  cod\n",
      "ant bat ant bat ant bat ant bat ant bat ant bat ant bat \n",
      "batbatcod batbatcod batbatcod \n"
     ]
    }
   ],
   "source": [
    "#Q4\n",
    "s1='ant'\n",
    "s2='bat'\n",
    "s3='cod'\n",
    "a=print(s1,s2,s3)\n",
    "b=print(10*(s1+' '))\n",
    "c=print(s1+' '+2*(s2+' ')+2*(s3+' '),s3)\n",
    "print(7*(s1+' '+s2+' '))\n",
    "print(3*(2*s2+s3+' '))"
   ]
  },
  {
   "cell_type": "code",
   "execution_count": 19,
   "metadata": {},
   "outputs": [
    {
     "name": "stdout",
     "output_type": "stream",
     "text": [
      "0 1 6 8 9\n"
     ]
    }
   ],
   "source": [
    "#Q5\n",
    "s='0123456789'\n",
    "print(s[0],s[1],s[6],s[8],s[9])"
   ]
  },
  {
   "cell_type": "code",
   "execution_count": 18,
   "metadata": {},
   "outputs": [
    {
     "name": "stdout",
     "output_type": "stream",
     "text": [
      "badminton\n",
      "bat\n"
     ]
    }
   ],
   "source": [
    "#Q6 \n",
    "words=['bat','ball','barn','basket','badminton']\n",
    "print(min(words))\n",
    "print(max(words))"
   ]
  },
  {
   "cell_type": "code",
   "execution_count": 7,
   "metadata": {},
   "outputs": [
    {
     "name": "stdout",
     "output_type": "stream",
     "text": [
      "2\n",
      "[2, 3, 6, 6, 7, 7, 9, 9, 10]\n",
      "10\n",
      "6.555555555555555\n",
      "[2, 3, 6, 6, 7, 7, 9, 9, 4]\n"
     ]
    }
   ],
   "source": [
    "#Q7\n",
    "grade =[9,7,7,10,3,9,6,6,2]\n",
    "print(grade.count(7))     \n",
    "grade.sort()\n",
    "print(grade)\n",
    "print(max(grade))\n",
    "print((sum(grade))/(len(grade)))\n",
    "grade[-1]=4\n",
    "print(grade)"
   ]
  },
  {
   "cell_type": "code",
   "execution_count": 16,
   "metadata": {},
   "outputs": [
    {
     "name": "stdout",
     "output_type": "stream",
     "text": [
      "True True True 18 True\n"
     ]
    }
   ],
   "source": [
    "#Q8\n",
    "a=6\n",
    "l=[0,1,2,3,4,5,6,7,8,9]\n",
    "b=((2+3)==4)or(a>=5)\n",
    "c=(((l[1])*(-3))<(-10))==0\n",
    "d=(((l[1])*(-3))<(-10)) in [0,True]\n",
    "e=2*(3**2)\n",
    "f=(4/2) in [1,2,3]\n",
    "print(b,c,d,e,f)"
   ]
  },
  {
   "cell_type": "code",
   "execution_count": 18,
   "metadata": {},
   "outputs": [
    {
     "name": "stdout",
     "output_type": "stream",
     "text": [
      "0\n",
      "18.0\n",
      "2\n",
      "True\n"
     ]
    }
   ],
   "source": [
    "#Q9\n",
    "print(False+False)\n",
    "print(2*3**2.0)\n",
    "print(4//2+4%2)\n",
    "print(2+3==4 or 5>=5)"
   ]
  },
  {
   "cell_type": "code",
   "execution_count": 47,
   "metadata": {},
   "outputs": [
    {
     "name": "stdout",
     "output_type": "stream",
     "text": [
      "5.0\n",
      "True\n",
      "28.274333882308138\n",
      "True\n"
     ]
    }
   ],
   "source": [
    "#Q10\n",
    "import math\n",
    "a=3\n",
    "b=4\n",
    "x='x'\n",
    "y='y'\n",
    "H=math.sqrt(a**2+b**2)\n",
    "c=math.sqrt(a**2+b**2)==5\n",
    "r=math.pi*a**2\n",
    "print(H)\n",
    "print(c)\n",
    "print(r)\n",
    "print((a)**2+(b)**2<r**2)"
   ]
  },
  {
   "cell_type": "code",
   "execution_count": 52,
   "metadata": {},
   "outputs": [
    {
     "name": "stdout",
     "output_type": "stream",
     "text": [
      "-28\n",
      "10.651685393258427\n",
      "9.5367431640625e-07\n",
      "71\n",
      "34\n"
     ]
    }
   ],
   "source": [
    "#Q11\n",
    "a=-7+-6+-5+-4+-3+-2+-1\n",
    "b=(17*9 + 24*10 + 21*11 + 27*12)/(17+24+21+27)\n",
    "c=2**(-20)\n",
    "d=4356//61\n",
    "e=4365 % 61\n",
    "print(a)\n",
    "print(b)\n",
    "print(c)\n",
    "print(d)\n",
    "print(e)\n"
   ]
  },
  {
   "cell_type": "code",
   "execution_count": 53,
   "metadata": {},
   "outputs": [
    {
     "name": "stdout",
     "output_type": "stream",
     "text": [
      "-+\n",
      "-+-\n",
      "+--\n",
      "+--+--\n",
      "+--+--+--+--+--+--+--+--+--+--+\n",
      "+-+++--+-+++--+-+++--+-+++--+-+++--\n"
     ]
    }
   ],
   "source": [
    "#Q12\n",
    "s1='-'\n",
    "s2='+'\n",
    "print(s1+s2)\n",
    "print(s1+s2+s1)\n",
    "print(s2 + 2*s1)\n",
    "print(2*(s2 + 2*s1))\n",
    "print(10*(s2 + 2*s1) + s2)\n",
    "print(5*(s2+s1+3*s2+2*s1))\n",
    "\n"
   ]
  },
  {
   "cell_type": "code",
   "execution_count": 81,
   "metadata": {},
   "outputs": [
    {
     "name": "stdout",
     "output_type": "stream",
     "text": [
      "a\n",
      "c\n",
      "z\n",
      "y\n",
      "q\n"
     ]
    }
   ],
   "source": [
    "s ='abcdefghijklmnopqrstuvwxyz'\n",
    "print(s[0])\n",
    "\n",
    "print(s[2])\n",
    "\n",
    "print(s[25])\n",
    "\n",
    "print(s[24])\n",
    "\n",
    "print(s[16])"
   ]
  },
  {
   "cell_type": "code",
   "execution_count": 65,
   "metadata": {},
   "outputs": [
    {
     "name": "stdout",
     "output_type": "stream",
     "text": [
      "True\n",
      "False\n",
      "False\n",
      "False\n",
      "True\n",
      "False\n",
      "False\n"
     ]
    }
   ],
   "source": [
    "#Q14\n",
    "s='goodbye'\n",
    "print(s[0] == 'g')\n",
    "print(s[6] == 'g')\n",
    "print((s[0] == 'g' and s[1] == 'a'))\n",
    "print(s[-2] == 'x')\n",
    "print(s[len(s)//2] == 'd')\n",
    "print(s[0] == s[-1])\n",
    "print(s[-4:] == \"tion\")"
   ]
  },
  {
   "cell_type": "code",
   "execution_count": 66,
   "metadata": {},
   "outputs": [
    {
     "name": "stdout",
     "output_type": "stream",
     "text": [
      "the number of character in the word anachronistically is 17\n",
      "the number of character in the word counterintutive is 15\n",
      "the number in character anachronistically 2 then counterintutive\n",
      "number of e in given word is 0\n",
      "['misinterpretation', 'misrepresentation']\n",
      "number of characters in counterrevolutionis 17\n",
      "sum of counter and revolution is 17\n",
      "NUMBER OF LETTER IN ELEMENT 1 ARE EQUAL TO THE SUM OF THE LETTLES OF ELEMENT 2 AND 3\n"
     ]
    }
   ],
   "source": [
    "first_word= 'anachronistically'\n",
    "second_word= 'counterintutive'\n",
    "print(\"the number of character in the word anachronistically is \" +str(len(first_word ))) \n",
    "print(\"the number of character in the word counterintutive is \" +str(len(second_word))) \n",
    "print(\"the number in character anachronistically \"+str(len(first_word)-(len(second_word)))+\" then counterintutive\")\n",
    "wor=(\"floccinaucinihilipilification\") \n",
    "wor.count(\"e\")\n",
    "print(\"number of e in given word is \"+str(wor.count(\"e\")))\n",
    "dictionary=['misrepresentation','misinterpretation']\n",
    "dictionary.sort()\n",
    "print(dictionary)\n",
    "ELEMENT_1 =\"counterrevolution\" \n",
    "ELEMENT_2=\"counter\" \n",
    "ELEMENT_3=\"revolution\" \n",
    "print(\"number of characters in counterrevolutionis \"+str(len(ELEMENT_1))) \n",
    "print(\"sum of counter and revolution is \"+str(len(ELEMENT_2)+(len(ELEMENT_3))))\n",
    "print(\"NUMBER OF LETTER IN ELEMENT 1 ARE EQUAL TO THE SUM OF THE LETTLES OF ELEMENT 2 AND 3\")"
   ]
  },
  {
   "cell_type": "code",
   "execution_count": 70,
   "metadata": {},
   "outputs": [
    {
     "name": "stdout",
     "output_type": "stream",
     "text": [
      "3.0\n",
      "my fullname is John Fitzgerald Kennad\n",
      "True\n",
      "False\n",
      "True\n",
      "False\n",
      "False\n",
      "False\n"
     ]
    }
   ],
   "source": [
    "a=2 \n",
    "b=4 \n",
    "c=(a+b)/2 \n",
    "print(c)\n",
    "inventory = ['paper','staplers','pencil'] \n",
    "first = 'John' \n",
    "middle = 'Fitzgerald' \n",
    "last = 'Kennad' \n",
    "fullname = first + \" \" + middle + \" \" + last \n",
    "print(\"my fullname is \" + fullname)\n",
    "#Q17\n",
    "inventory=[1,2,3,45,6,7]\n",
    "fullname=[1,25,3,657,8,33,53,2,2,26]\n",
    "print(17-9 < 10)\n",
    "print(len(inventory) > 5*len(fullname))\n",
    "print(c <= 24)\n",
    "print((6.75 < a and 6.75 > b) or (6.75 < b and 6.75 > a))\n",
    "print(len(middle) > len(first) and len(middle) < len(last))\n",
    "print(len(x)==0 or len(x) > 10)\n"
   ]
  },
  {
   "cell_type": "code",
   "execution_count": 71,
   "metadata": {},
   "outputs": [
    {
     "name": "stdout",
     "output_type": "stream",
     "text": [
      "['rose', 'bougainvillea', 'yucca', 'marigold', 'daylilly', 'lilly of the valley']\n",
      "False\n",
      "['rose', 'bougainvillea', 'yucca']\n",
      "['lilly of the valley']\n",
      "['rose', 'bougainvillea', 'yucca', 'lilly of the valley']\n"
     ]
    }
   ],
   "source": [
    "flowers=['rose','bougainvillea', 'yucca', 'marigold', 'daylilly','lilly of the valley']\n",
    "print(flowers)\n",
    "flowers=['rose','bougainvillea', 'yucca', 'marigold', 'daylilly','lilly of the valley']\n",
    "print('potato'in[flowers])\n",
    "thorny=[flowers[0],flowers[1],flowers[2]]\n",
    "print(thorny)\n",
    "poisonous=[flowers[-1]]\n",
    "print(poisonous)\n",
    "dangerous = thorny + poisonous\n",
    "print(dangerous)"
   ]
  },
  {
   "cell_type": "code",
   "execution_count": 76,
   "metadata": {},
   "outputs": [
    {
     "name": "stdout",
     "output_type": "stream",
     "text": [
      "5\n",
      "6\n",
      "0.45454545454545453\n",
      "None\n",
      "6\n"
     ]
    }
   ],
   "source": [
    "answers = ['Y', 'N', 'N', 'Y', 'N', 'Y', 'Y', 'Y', 'N', 'N', 'N'] \n",
    "numYes = answers.count('Y')\n",
    "numNo = answers.count('N')\n",
    "percentYes = answers.count('Y')/len(answers)\n",
    "\n",
    "print(numYes)\n",
    "print(numNo)\n",
    "print(percentYes)\n",
    "print(answers.sort())\n",
    "print(answers.count('N'))\n"
   ]
  },
  {
   "cell_type": "code",
   "execution_count": null,
   "metadata": {},
   "outputs": [],
   "source": []
  },
  {
   "cell_type": "code",
   "execution_count": 27,
   "metadata": {},
   "outputs": [
    {
     "name": "stdout",
     "output_type": "stream",
     "text": [
      "tac\n"
     ]
    }
   ],
   "source": [
    "#Q20\n",
    "s='cat'\n",
    "s1=s[::-1] \n",
    "print (s1)\n"
   ]
  },
  {
   "cell_type": "code",
   "execution_count": 30,
   "metadata": {},
   "outputs": [
    {
     "name": "stdout",
     "output_type": "stream",
     "text": [
      "LP\n"
     ]
    }
   ],
   "source": [
    "#Q21\n",
    "s = \"Ljubomir Perkovic\" \n",
    "names = s.split()\n",
    "initial = \"\" \n",
    "for i in names: \n",
    "    initial += i[0]\n",
    "print(initial)"
   ]
  },
  {
   "cell_type": "code",
   "execution_count": 32,
   "metadata": {},
   "outputs": [
    {
     "name": "stdout",
     "output_type": "stream",
     "text": [
      "14\n"
     ]
    }
   ],
   "source": [
    "#Q22\n",
    "lst=[3,7,-2,12]\n",
    "print(max(lst)-min(lst))"
   ]
  },
  {
   "cell_type": "code",
   "execution_count": 33,
   "metadata": {},
   "outputs": [
    {
     "name": "stdout",
     "output_type": "stream",
     "text": [
      "['jan', 'feb', 'mar', 'apr', 'may']\n",
      "('jan', 'feb', 'mar', 'apr', 'may')\n",
      "['jan', 'feb', 'mar', 'apr', 'may', 'jun']\n",
      "('jan', 'feb', 'mar', 'apr', 'may', 'jun')\n",
      "['jan', 'mar', 'apr', 'may']\n",
      "['jan', 'mar', 'apr', 'may']\n",
      "['may', 'apr', 'mar', 'jan']\n",
      "['apr', 'jan', 'mar', 'may']\n"
     ]
    }
   ],
   "source": [
    "#Q23\n",
    "monthl=['jan','feb','mar','may']\n",
    "montht=('jan','feb','mar','may')\n",
    "monthl.insert(3,'apr')\n",
    "montht = montht[ : 3 ] + ('apr' ,)+montht[3:]\n",
    "print(monthl)\n",
    "print(montht)\n",
    "monthl.insert(5,'jun')\n",
    "print(monthl)\n",
    "montht=montht[:5]+('jun',)+montht[5:]\n",
    "print(montht)\n",
    "montht=list(montht)\n",
    "montht.pop()\n",
    "monthl.pop()\n",
    "monthl.remove('feb')\n",
    "montht=list(montht)\n",
    "montht.remove('feb')\n",
    "print(montht)\n",
    "print(monthl)\n",
    "monthl.reverse()\n",
    "print(monthl)\n",
    "monthl.sort()\n",
    "print(monthl)"
   ]
  },
  {
   "cell_type": "code",
   "execution_count": 36,
   "metadata": {},
   "outputs": [
    {
     "name": "stdout",
     "output_type": "stream",
     "text": [
      "[2, 3, 1, 1, 1]\n"
     ]
    }
   ],
   "source": [
    "#Q24\n",
    "grades=['b','a','b','c','b','a','d','f']\n",
    "count = [grades.count('a'),grades.count('b'),grades.count('c'),grades.count('d'),grades.count('f')]\n",
    "print(count)"
   ]
  },
  {
   "cell_type": "code",
   "execution_count": 38,
   "metadata": {},
   "outputs": [
    {
     "name": "stdout",
     "output_type": "stream",
     "text": [
      "[2, 3, 1, 1, 1]\n"
     ]
    }
   ],
   "source": [
    "#Q24\n",
    "grades=('b','a','b','c','b','a','d','f')\n",
    "count = [grades.count('a'),grades.count('b'),grades.count('c'),grades.count('d'),grades.count('f')]\n",
    "print(count)"
   ]
  },
  {
   "cell_type": "code",
   "execution_count": 37,
   "metadata": {},
   "outputs": [
    {
     "name": "stdout",
     "output_type": "stream",
     "text": [
      "True\n",
      "False\n",
      "True\n",
      "False\n"
     ]
    }
   ],
   "source": [
    "#Q26\n",
    "from math import sqrt\n",
    "r=10\n",
    "X=0\n",
    "Y=0\n",
    "first_target=sqrt((0-0)**2+(0-0)**2)\n",
    "second_target=sqrt((10-0)**2+(10-0)**2)\n",
    "third_target=sqrt((6-0)**2+(6-0)**2)\n",
    "fourth_target=sqrt((8-0)**2+(7-0)**2)\n",
    "print(first_target<r)\n",
    "print(second_target<r)\n",
    "print(third_target<r)\n",
    "print(fourth_target<r)"
   ]
  },
  {
   "cell_type": "code",
   "execution_count": 39,
   "metadata": {},
   "outputs": [
    {
     "name": "stdout",
     "output_type": "stream",
     "text": [
      "LENGTH OF THE LADDER:16\n",
      "input angle in degree:75\n",
      "The height of the ladder is 15.454813220625093\n",
      "LENGTH OF THE LADDER:20\n",
      "input angle in degree:0\n",
      "The height of the ladder is 0.0\n",
      "LENGTH OF THE LADDER:24\n",
      "input angle in degree:45\n",
      "The height of the ladder is 16.970562748477143\n",
      "LENGTH OF THE LADDER:24\n",
      "input angle in degree:80\n",
      "The height of the ladder is 23.63538607229299\n"
     ]
    }
   ],
   "source": [
    "#Q27\n",
    "#this program is to compute the height reached by the ladder with the help of length and angle\n",
    "import math\n",
    "length = float(input(\"LENGTH OF THE LADDER:\"))\n",
    "ang_d = float(input(\"input angle in degree:\"))\n",
    "ang_r=math.pi*ang_d/180\n",
    "height=length*math.sin(ang_r)\n",
    "print(\"The height of the ladder is\", height)\n",
    "length = float(input(\"LENGTH OF THE LADDER:\"))\n",
    "ang_d = float(input(\"input angle in degree:\"))\n",
    "ang_r=math.pi*ang_d/180\n",
    "height=length*math.sin(ang_r)\n",
    "print(\"The height of the ladder is\", height)\n",
    "length = float(input(\"LENGTH OF THE LADDER:\"))\n",
    "ang_d = float(input(\"input angle in degree:\"))\n",
    "ang_r=math.pi*ang_d/180\n",
    "height=length*math.sin(ang_r)\n",
    "print(\"The height of the ladder is\", height)\n",
    "length = float(input(\"LENGTH OF THE LADDER:\"))\n",
    "ang_d = float(input(\"input angle in degree:\"))\n",
    "ang_r=math.pi*ang_d/180\n",
    "height=length*math.sin(ang_r)\n",
    "print(\"The height of the ladder is\", height)\n",
    "                                            "
   ]
  },
  {
   "cell_type": "code",
   "execution_count": 41,
   "metadata": {},
   "outputs": [
    {
     "name": "stdout",
     "output_type": "stream",
     "text": [
      "253\n",
      "2\n",
      "my number list in descending [253, 98, 52, 45, 11]\n",
      "[98, 52, 45, 11, 253]\n"
     ]
    }
   ],
   "source": [
    "#Q28\n",
    "lst=[11,52,253,45,98]\n",
    "middle = int(len(lst) / 2)\n",
    "print(lst[middle])  \n",
    "print(len(lst)//2)\n",
    "lst.sort(reverse = True)\n",
    "print(\"my number list in descending\",lst)\n",
    "lst.insert(len(lst),lst.pop(0))\n",
    "print(lst)"
   ]
  },
  {
   "cell_type": "code",
   "execution_count": 43,
   "metadata": {},
   "outputs": [
    {
     "name": "stdout",
     "output_type": "stream",
     "text": [
      "True\n",
      "True\n",
      "True\n"
     ]
    }
   ],
   "source": [
    "#Q29\n",
    "print(0 == (1 == 2))\n",
    "print((2 + (3 == 4) + 5) == 7)\n",
    "print((1 < -1) == (3 > 4))\n",
    "\n"
   ]
  },
  {
   "cell_type": "code",
   "execution_count": 45,
   "metadata": {},
   "outputs": [
    {
     "name": "stdout",
     "output_type": "stream",
     "text": [
      "['h', 'e', 'l', 'l', 'o', ' ', 's', 'a', 'l', 'a', 'm']\n"
     ]
    }
   ],
   "source": [
    "#Q30\n",
    "q='hello salam'\n",
    "print(list(q))"
   ]
  },
  {
   "cell_type": "code",
   "execution_count": 46,
   "metadata": {},
   "outputs": [
    {
     "name": "stdout",
     "output_type": "stream",
     "text": [
      "[2, 3, 4]\n",
      "[2, 3, 4, 5, 6]\n",
      "[2, 3, 4, 5, 6]\n",
      "[]\n",
      "[2, 3, 4, 5, 6]\n"
     ]
    }
   ],
   "source": [
    "#Q31\n",
    "lst = [2, 3, 4]\n",
    "print(lst)\n",
    "lst.extend([5, 6])\n",
    "print(lst)\n",
    "lst2 = lst.copy()\n",
    "print(lst2)\n",
    "lst.clear()\n",
    "print(lst)\n",
    "print(lst2)"
   ]
  },
  {
   "cell_type": "code",
   "execution_count": 1,
   "metadata": {},
   "outputs": [
    {
     "name": "stdout",
     "output_type": "stream",
     "text": [
      "tac\n"
     ]
    }
   ],
   "source": [
    "s='cat'\n",
    "s[::-1]  \n",
    "print(s[-1]+s[-2]+s[-3])\n"
   ]
  },
  {
   "cell_type": "code",
   "execution_count": 2,
   "metadata": {},
   "outputs": [
    {
     "data": {
      "text/plain": [
       "16"
      ]
     },
     "execution_count": 2,
     "metadata": {},
     "output_type": "execute_result"
    }
   ],
   "source": [
    "lst=[1,11,15,17,10]\n",
    "max(lst)-min(lst)"
   ]
  },
  {
   "cell_type": "code",
   "execution_count": 3,
   "metadata": {},
   "outputs": [
    {
     "data": {
      "text/plain": [
       "2"
      ]
     },
     "execution_count": 3,
     "metadata": {},
     "output_type": "execute_result"
    }
   ],
   "source": [
    "lst=[1,11,15,17,10]\n",
    "len(lst)//2"
   ]
  },
  {
   "cell_type": "code",
   "execution_count": 5,
   "metadata": {},
   "outputs": [
    {
     "ename": "NameError",
     "evalue": "name 'st' is not defined",
     "output_type": "error",
     "traceback": [
      "\u001b[1;31m---------------------------------------------------------------------------\u001b[0m",
      "\u001b[1;31mNameError\u001b[0m                                 Traceback (most recent call last)",
      "\u001b[1;32m<ipython-input-5-b28038af3a2d>\u001b[0m in \u001b[0;36m<module>\u001b[1;34m\u001b[0m\n\u001b[0;32m      1\u001b[0m \u001b[0mlst\u001b[0m\u001b[1;33m=\u001b[0m\u001b[1;33m[\u001b[0m\u001b[1;36m1\u001b[0m\u001b[1;33m,\u001b[0m\u001b[1;36m11\u001b[0m\u001b[1;33m,\u001b[0m\u001b[1;36m15\u001b[0m\u001b[1;33m,\u001b[0m\u001b[1;36m17\u001b[0m\u001b[1;33m,\u001b[0m\u001b[1;36m10\u001b[0m\u001b[1;33m]\u001b[0m\u001b[1;33m\u001b[0m\u001b[1;33m\u001b[0m\u001b[0m\n\u001b[1;32m----> 2\u001b[1;33m \u001b[0mst\u001b[0m\u001b[1;33m[\u001b[0m\u001b[0mlen\u001b[0m\u001b[1;33m(\u001b[0m\u001b[0mlst\u001b[0m\u001b[1;33m)\u001b[0m\u001b[1;33m//\u001b[0m\u001b[1;36m2\u001b[0m\u001b[1;33m]\u001b[0m\u001b[1;33m\u001b[0m\u001b[1;33m\u001b[0m\u001b[0m\n\u001b[0m",
      "\u001b[1;31mNameError\u001b[0m: name 'st' is not defined"
     ]
    }
   ],
   "source": [
    "lst=[1,11,15,17,10]\n",
    "st[len(lst)//2]"
   ]
  },
  {
   "cell_type": "code",
   "execution_count": 6,
   "metadata": {},
   "outputs": [],
   "source": [
    "lst=[1,11,15,17,10]\n",
    "lst.sort() \n",
    "lst.reverse()"
   ]
  },
  {
   "cell_type": "code",
   "execution_count": 7,
   "metadata": {},
   "outputs": [],
   "source": [
    "lst=[1,11,15,17,10]\n",
    "x=lst.pop(0)\n",
    "lst.append(x)"
   ]
  },
  {
   "cell_type": "code",
   "execution_count": 8,
   "metadata": {},
   "outputs": [
    {
     "name": "stdout",
     "output_type": "stream",
     "text": [
      "['Jan', 'Feb', 'Mar', 'Apr', 'Apr', 'May']\n"
     ]
    }
   ],
   "source": [
    "list1 = ['Jan', 'Feb', 'Mar', 'Apr', 'May']\n",
    "# insert Apr at the 3rd index of the list\n",
    "list1.insert(3,'Apr')\n",
    "print(list1)"
   ]
  },
  {
   "cell_type": "code",
   "execution_count": 9,
   "metadata": {},
   "outputs": [
    {
     "data": {
      "text/plain": [
       "'May'"
      ]
     },
     "execution_count": 9,
     "metadata": {},
     "output_type": "execute_result"
    }
   ],
   "source": [
    "months = ['Jan', 'Feb', 'Mar', 'Apr', 'May']\n",
    "# using pop() to delete element from right end\n",
    "# deletes 4 from the right end of deque\n",
    "months.pop()"
   ]
  },
  {
   "cell_type": "code",
   "execution_count": 10,
   "metadata": {},
   "outputs": [
    {
     "name": "stdout",
     "output_type": "stream",
     "text": [
      "JanFebMarAprMayJun\n"
     ]
    }
   ],
   "source": [
    "s1 = 'Jan'\n",
    "s2 = 'Feb'\n",
    "s3 = 'Mar'\n",
    "s4 = 'Apr'\n",
    "s5 = 'May'\n",
    "s6 = 'Jun'\n",
    "s7 = s1 + s2 + s3 +s4 + s5 + s6\n",
    "print(s7)"
   ]
  },
  {
   "cell_type": "code",
   "execution_count": 11,
   "metadata": {},
   "outputs": [
    {
     "name": "stdout",
     "output_type": "stream",
     "text": [
      "['Jan', 'Feb', 'Apr', 'May']\n",
      "['Jan', 'Mar', 'Apr', 'May']\n"
     ]
    }
   ],
   "source": [
    "monthsL=['Jan', 'Feb', 'Mar', 'Apr', 'May']\n",
    "monthsT=['Jan', 'Feb', 'Mar', 'Apr', 'May']\n",
    "monthsL.remove('Mar')\n",
    "print(monthsL)\n",
    "monthsT.remove('Feb')\n",
    "print(monthsT)"
   ]
  },
  {
   "cell_type": "code",
   "execution_count": 12,
   "metadata": {},
   "outputs": [
    {
     "name": "stdout",
     "output_type": "stream",
     "text": [
      "['Apr', 'Mar', 'Feb', 'Jan']\n"
     ]
    }
   ],
   "source": [
    "m = ['Jan', 'Feb', 'Mar', 'Apr']\n",
    "def Reverse(m):\n",
    "    return [ele for ele in reversed(m)]\n",
    "# Driver Code\n",
    "print(Reverse(m))"
   ]
  },
  {
   "cell_type": "code",
   "execution_count": 13,
   "metadata": {},
   "outputs": [
    {
     "name": "stdout",
     "output_type": "stream",
     "text": [
      "['Feb', 'Jan', 'Mar']\n"
     ]
    }
   ],
   "source": [
    "months = ['Jan', 'Feb', 'Mar']\n",
    "# Sorting list of months in ascending\n",
    "months.sort()\n",
    "print(months)"
   ]
  },
  {
   "cell_type": "code",
   "execution_count": 14,
   "metadata": {},
   "outputs": [
    {
     "name": "stdout",
     "output_type": "stream",
     "text": [
      "['May', 'Mar', 'Jun', 'Jan', 'Feb', 'Apr']\n",
      "['Jan', 'Feb', 'Mar', 'Apr', 'Apr', 'May']\n"
     ]
    }
   ],
   "source": [
    "months = ['Jan', 'Feb', 'Mar', 'Apr', 'May','Jun']\n",
    "\n",
    "# Sorting list of months in descending\n",
    "months.sort(reverse = True)\n",
    "print(months)\n",
    "print(list1)"
   ]
  },
  {
   "cell_type": "code",
   "execution_count": 15,
   "metadata": {},
   "outputs": [
    {
     "name": "stdout",
     "output_type": "stream",
     "text": [
      "L\n",
      "LP\n"
     ]
    }
   ],
   "source": [
    "s = \"Ljubomir Perkovic\" \n",
    "names = s.split()\n",
    "initial = \"\" \n",
    "for i in names: \n",
    "    initial += i[0]\n",
    "    print(initial)"
   ]
  },
  {
   "cell_type": "code",
   "execution_count": 16,
   "metadata": {},
   "outputs": [
    {
     "name": "stdout",
     "output_type": "stream",
     "text": [
      "True\n",
      "False\n",
      "True\n",
      "False\n"
     ]
    }
   ],
   "source": [
    "import math\n",
    "r=10\n",
    "X=0\n",
    "Y=0\n",
    "a=math.sqrt((0-0)**2+(0-0)**2)\n",
    "b=math.sqrt((10-0)**2+(10-0)**2)\n",
    "c=math.sqrt((6-0)**2+(6-0)**2)\n",
    "d=math.sqrt((8-0)**2+(7-0)**2)\n",
    "print(a<r)\n",
    "print(b<r)\n",
    "print(c<r)\n",
    "print(d<r)"
   ]
  },
  {
   "cell_type": "code",
   "execution_count": 17,
   "metadata": {},
   "outputs": [
    {
     "data": {
      "text/plain": [
       "[2, 3, 4, 5, 6]"
      ]
     },
     "execution_count": 17,
     "metadata": {},
     "output_type": "execute_result"
    }
   ],
   "source": [
    ">>> lst = [2, 3, 4]\n",
    ">>> lst.extend([5, 6])\n",
    ">>> lst\n",
    "[2, 3, 4, 5, 6]\n",
    ">>> lst2 = lst.copy()\n",
    ">>> lst2\n",
    "[2, 3, 4, 5, 6]\n",
    ">>> lst.clear()\n",
    ">>> lst\n",
    "[]\n",
    ">>> lst2\n",
    "[2, 3, 4, 5, 6]"
   ]
  },
  {
   "cell_type": "code",
   "execution_count": 18,
   "metadata": {},
   "outputs": [
    {
     "data": {
      "text/plain": [
       "True"
      ]
     },
     "execution_count": 18,
     "metadata": {},
     "output_type": "execute_result"
    }
   ],
   "source": [
    "0 == 1 == 2\n",
    "0== False\n",
    "False==False\n",
    "True"
   ]
  },
  {
   "cell_type": "code",
   "execution_count": 19,
   "metadata": {},
   "outputs": [
    {
     "data": {
      "text/plain": [
       "True"
      ]
     },
     "execution_count": 19,
     "metadata": {},
     "output_type": "execute_result"
    }
   ],
   "source": [
    "2 + 3 == 4 + 5 == 7\n",
    "2+3==False\n",
    "False==False\n",
    "True"
   ]
  },
  {
   "cell_type": "code",
   "execution_count": 20,
   "metadata": {},
   "outputs": [
    {
     "data": {
      "text/plain": [
       "True"
      ]
     },
     "execution_count": 20,
     "metadata": {},
     "output_type": "execute_result"
    }
   ],
   "source": [
    "1 < -1 == (3 > 4) \n",
    "1 < -1 == False\n",
    "False == False\n",
    "True"
   ]
  },
  {
   "cell_type": "code",
   "execution_count": 21,
   "metadata": {},
   "outputs": [
    {
     "name": "stdout",
     "output_type": "stream",
     "text": [
      "['rose', 'bougainvillea', 'yucca', 'marigold', 'daylilly', 'lilly of the valley']\n"
     ]
    }
   ],
   "source": [
    "flowers=['rose','bougainvillea', 'yucca', 'marigold', 'daylilly','lilly of the valley']\n",
    "print(flowers)"
   ]
  },
  {
   "cell_type": "code",
   "execution_count": 22,
   "metadata": {},
   "outputs": [
    {
     "data": {
      "text/plain": [
       "False"
      ]
     },
     "execution_count": 22,
     "metadata": {},
     "output_type": "execute_result"
    }
   ],
   "source": [
    "flowers=['rose','bougainvillea', 'yucca', 'marigold', 'daylilly','lilly of the valley']\n",
    "'potato'in[flowers]"
   ]
  },
  {
   "cell_type": "code",
   "execution_count": 23,
   "metadata": {},
   "outputs": [
    {
     "name": "stdout",
     "output_type": "stream",
     "text": [
      "['rose', 'bougainvillea', 'yucca']\n"
     ]
    }
   ],
   "source": [
    "thorny=[flowers[0],flowers[1],flowers[2]]\n",
    "print(thorny)"
   ]
  },
  {
   "cell_type": "code",
   "execution_count": 24,
   "metadata": {},
   "outputs": [
    {
     "name": "stdout",
     "output_type": "stream",
     "text": [
      "['lilly of the valley']\n"
     ]
    }
   ],
   "source": [
    "poisonous=[flowers[-1]]\n",
    "print(poisonous)"
   ]
  },
  {
   "cell_type": "code",
   "execution_count": 25,
   "metadata": {},
   "outputs": [
    {
     "name": "stdout",
     "output_type": "stream",
     "text": [
      "[['rose', 'bougainvillea', 'yucca'], ['lilly of the valley']]\n"
     ]
    }
   ],
   "source": [
    "dangerous=[thorny]+[poisonous]\n",
    "print(dangerous)"
   ]
  },
  {
   "cell_type": "code",
   "execution_count": null,
   "metadata": {},
   "outputs": [],
   "source": []
  }
 ],
 "metadata": {
  "kernelspec": {
   "display_name": "Python 3",
   "language": "python",
   "name": "python3"
  },
  "language_info": {
   "codemirror_mode": {
    "name": "ipython",
    "version": 3
   },
   "file_extension": ".py",
   "mimetype": "text/x-python",
   "name": "python",
   "nbconvert_exporter": "python",
   "pygments_lexer": "ipython3",
   "version": "3.7.4"
  }
 },
 "nbformat": 4,
 "nbformat_minor": 2
}
